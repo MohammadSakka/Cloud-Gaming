{
 "cells": [
  {
   "cell_type": "markdown",
   "id": "c91f25cd",
   "metadata": {},
   "source": [
    "# Regression Task"
   ]
  },
  {
   "cell_type": "markdown",
   "id": "78c6fad5",
   "metadata": {},
   "source": [
    "### loading data"
   ]
  },
  {
   "cell_type": "code",
   "execution_count": 121,
   "id": "1af37048",
   "metadata": {},
   "outputs": [],
   "source": [
    "#%% reading the data\n",
    "# select the data number\n",
    "# 0- bitrate\n",
    "# 1 - stream quality\n",
    "SDn = 1 # select numbe\n",
    "num_selected = 3\n",
    "#\n",
    "DSs = ['bitrate_prediction','stream_quality_data']\n",
    "targets_names = ['target','stream_quality']\n",
    "target_name = targets_names[SDn]\n",
    "\n",
    "# loading training and testing\n",
    "import os\n",
    "init_dir = os.path.abspath(os.path.join(os.getcwd(), os.pardir)) + \"\\\\data\\\\\"\n",
    "import pandas as pd\n",
    "train_data = pd.read_csv(init_dir + DSs[SDn] + '\\\\train_data.csv', low_memory=False)\n",
    "test_data = pd.read_csv(init_dir + DSs[SDn] + '\\\\test_data.csv', low_memory=False)\n",
    "\n",
    "# split targets and features\n",
    "if SDn==1:\n",
    "    train_targets = train_data[target_name]\n",
    "    test_targets = test_data[target_name]\n",
    "    train_data.drop(target_name, axis=1, inplace=True)\n",
    "    test_data.drop(target_name, axis=1, inplace=True)\n",
    "else:\n",
    "    train_targets = train_data[target_name]\n",
    "    test_targets = test_data[target_name]\n",
    "    train_data.drop(target_name, axis=1, inplace=True)\n",
    "    test_data.drop(target_name, axis=1, inplace=True)\n",
    "# generating validation data\n",
    "from sklearn.model_selection import train_test_split\n",
    "test_data, val_data, test_targets, val_targets = train_test_split(test_data, test_targets,test_size=0.5)"
   ]
  },
  {
   "cell_type": "markdown",
   "id": "a9fa7c46",
   "metadata": {},
   "source": [
    "## data profiling and save the profiles in docs folder"
   ]
  },
  {
   "cell_type": "code",
   "execution_count": 122,
   "id": "130f2726",
   "metadata": {},
   "outputs": [],
   "source": [
    "from pandas_profiling import ProfileReport\n",
    "\n",
    "report = ProfileReport(train_data)\n",
    "#report.to_file(os.path.abspath(os.path.join(os.getcwd(), os.pardir)) + \"\\\\docs\\\\\"  + DSs[SDn] + '.html')"
   ]
  },
  {
   "cell_type": "markdown",
   "id": "8c209661",
   "metadata": {},
   "source": [
    "## preprocessing"
   ]
  },
  {
   "cell_type": "code",
   "execution_count": 123,
   "id": "329057ea",
   "metadata": {},
   "outputs": [],
   "source": [
    "from sklearn.preprocessing import RobustScaler\n",
    "from sklearn.preprocessing import StandardScaler\n",
    "import pandas as pd\n",
    "\n",
    "def scaler_robust(data):\n",
    "    scaler = RobustScaler()\n",
    "    scaler.fit(data)\n",
    "    scaled_data = scaler.transform(data)\n",
    "    return scaled_data\n",
    "\n",
    "\n",
    "def scaler_standard(data):\n",
    "    scaler = StandardScaler()\n",
    "    scaler.fit(data)\n",
    "    scaled_data = scaler.transform(data)\n",
    "    return scaled_data\n",
    "    \n",
    "    \n",
    "def preprocesser(data,type_):\n",
    "    if type_==0:\n",
    "        preprocessed_data = scaler_robust(data)\n",
    "    else:\n",
    "        cleanup_nums = {\"auto_bitrate_state\":     {\"off\": 0, \"full\": 1,\"partial\":0.5},\n",
    "                \"auto_fec_state\": {\"off\": 0, \"partial\": 0.5}}\n",
    "        preprocessed_data = data.replace(cleanup_nums)\n",
    "        preprocessed_data = scaler_standard(preprocessed_data)\n",
    "    preprocessed_data = pd.DataFrame(preprocessed_data, index=data.index, columns=data.columns)\n",
    "    return preprocessed_data"
   ]
  },
  {
   "cell_type": "code",
   "execution_count": 124,
   "id": "099c6db6",
   "metadata": {},
   "outputs": [],
   "source": [
    "train_data = preprocesser(train_data,SDn)\n",
    "test_data = preprocesser(test_data,SDn)\n",
    "val_data = preprocesser(val_data,SDn)"
   ]
  },
  {
   "cell_type": "markdown",
   "id": "e41f9123",
   "metadata": {},
   "source": [
    "## Feature Selection"
   ]
  },
  {
   "cell_type": "code",
   "execution_count": 125,
   "id": "ff573b2c",
   "metadata": {},
   "outputs": [],
   "source": [
    "from sklearn.feature_selection import SelectKBest\n",
    "from sklearn.feature_selection import chi2\n",
    "from sklearn.feature_selection import mutual_info_classif\n",
    "def feature_selector(data,targets,type_,num_selected):\n",
    "    if type_==0:\n",
    "        bestfeatures = SelectKBest(score_func=chi2, k=num_selected)\n",
    "    else:\n",
    "        bestfeatures = SelectKBest(score_func=f_regression, k=num_selected)\n",
    "    bestfeatures.fit(data.astype('int'),targets.astype('int'))\n",
    "    dfscores = pd.DataFrame(fit.scores_)\n",
    "    dfcolumns = pd.DataFrame(data.columns)\n",
    "    #concatenate the two dataframes\n",
    "    featureScores = pd.concat([dfcolumns,dfscores],axis=1)\n",
    "    featureScores.columns = ['Feats','Score']\n",
    "    #print 10 best features\n",
    "    print(featureScores.nlargest(9,'Score').plot(kind='barh'))\n",
    "    #plot graph of feature importances \n",
    "    plt.show()\n",
    "    selected_feats = bestfeatures.get_feature_names_out(input_features=None)\n",
    "    return selected_feats"
   ]
  },
  {
   "cell_type": "code",
   "execution_count": 126,
   "id": "96cebf75",
   "metadata": {},
   "outputs": [
    {
     "name": "stdout",
     "output_type": "stream",
     "text": [
      "AxesSubplot(0.125,0.11;0.775x0.77)\n"
     ]
    },
    {
     "data": {
      "image/png": "[encoded data removed]",
      "text/plain": [
       "<Figure size 640x480 with 1 Axes>"
      ]
     },
     "metadata": {},
     "output_type": "display_data"
    }
   ],
   "source": [
    "tmp = train_data.copy()\n",
    "tmp[\"target\"] = train_targets\n",
    "sample = tmp.sample(n = int(1*len(tmp)))\n",
    "sample_targets = sample[\"target\"]\n",
    "sample.drop(\"target\", axis=1, inplace=True)\n",
    "best_feats = feature_selector(sample,sample_targets,SDn,num_selected)\n",
    "train_data = train_data[best_feats]\n",
    "test_data = test_data[best_feats]\n",
    "val_data = val_data[best_feats]"
   ]
  },
  {
   "cell_type": "markdown",
   "id": "a7ae51c9",
   "metadata": {},
   "source": [
    "## data visualization"
   ]
  },
  {
   "cell_type": "code",
   "execution_count": 127,
   "id": "6473b039",
   "metadata": {},
   "outputs": [],
   "source": [
    "from sklearn.decomposition import PCA\n",
    "import matplotlib.pyplot as plt\n",
    "\n",
    "def projector(data):\n",
    "    dim_reducer = PCA(n_components=2)\n",
    "    data_reduced = dim_reducer.fit_transform(data)\n",
    "    return data_reduced\n",
    "    \n",
    "def visualizer(data):\n",
    "    data_reduced = projector(data)\n",
    "    plt.scatter(data_reduced[:, 0], data_reduced[:, 1], marker='.')\n",
    "    plt.xlabel('Prinicipal Comp1')\n",
    "    plt.ylabel('Prinicipal Comp2')\n",
    "    plt.show()"
   ]
  },
  {
   "cell_type": "code",
   "execution_count": 128,
   "id": "79b8fe7a",
   "metadata": {},
   "outputs": [
    {
     "data": {
      "image/png": "[encoded data removed]",
      "text/plain": [
       "<Figure size 640x480 with 1 Axes>"
      ]
     },
     "metadata": {},
     "output_type": "display_data"
    }
   ],
   "source": [
    "visualizer(train_data)"
   ]
  },
  {
   "cell_type": "markdown",
   "id": "6e4ba724",
   "metadata": {},
   "source": [
    "## regression models"
   ]
  },
  {
   "cell_type": "code",
   "execution_count": 129,
   "id": "b7a410b0",
   "metadata": {},
   "outputs": [],
   "source": [
    "def fit_LR(train_data,train_targets):\n",
    "    from sklearn.linear_model import LinearRegression\n",
    "    regressor = LinearRegression()\n",
    "    regressor.fit(train_data, train_targets)\n",
    "    return regressor\n",
    "\n",
    "# polynomial linear regression with Ridge regularization\n",
    "def fit_PLR(train_data,train_targets,val_data,val_targets):\n",
    "    from sklearn.pipeline import Pipeline\n",
    "    from sklearn.preprocessing import PolynomialFeatures #to convert the original features into their higher order terms \n",
    "    from sklearn.linear_model import Ridge\n",
    "    from sklearn.metrics import mean_squared_error\n",
    "\n",
    "    import numpy as np\n",
    "    alphas = [0.01,0.1,1]\n",
    "    losses = []\n",
    "    for i in range(len(alphas)):\n",
    "\n",
    "        polynomial_features = PolynomialFeatures(degree=3)\n",
    "        linear_regression = Ridge(alpha =i )\n",
    "        pipeline = Pipeline([(\"polynomial_features\", polynomial_features),\n",
    "                         (\"linear_regression\", linear_regression)])\n",
    "        pipeline.fit(train_data, train_targets)\n",
    "\n",
    "    # Evaluate the models using crossvalidation\n",
    "        mse = mean_squared_error(pipeline.predict(val_data),val_targets)\n",
    "        losses.append(mse)\n",
    "    ind = np.argmin(losses)\n",
    "    print(ind)\n",
    "    best_alpha = alphas[ind]\n",
    "    linear_regression = Ridge(alpha =best_alpha )\n",
    "    pipeline.fit(train_data, train_targets)\n",
    "    return pipeline\n",
    "\n",
    "# Neural Network\n",
    "def fit_NN(train_data,train_targets):\n",
    "    from sklearn.neural_network import MLPRegressor\n",
    "    regr = MLPRegressor( max_iter=100,hidden_layer_sizes=(20,),alpha = 1)\n",
    "    regr.fit(train_data, train_targets)   \n",
    "    return regr"
   ]
  },
  {
   "cell_type": "markdown",
   "id": "cbb463d5",
   "metadata": {},
   "source": [
    "## classification models"
   ]
  },
  {
   "cell_type": "code",
   "execution_count": 130,
   "id": "15f8c2de",
   "metadata": {},
   "outputs": [],
   "source": [
    "def Log_reg_L2_fit(train_data,test_data):\n",
    "    from sklearn.linear_model import LogisticRegression\n",
    "    clf = LogisticRegression(random_state=0).fit(train_data, test_data)\n",
    "    return clf\n",
    "\n",
    "def Log_reg_fit(train_data,test_data):\n",
    "    from sklearn.linear_model import LogisticRegression\n",
    "    clf = LogisticRegression(random_state=0,penalty='none').fit(train_data, test_data)\n",
    "    return clf"
   ]
  },
  {
   "cell_type": "markdown",
   "id": "6576f4a2",
   "metadata": {},
   "source": [
    "## Outliers Detection For Classification Dataset"
   ]
  },
  {
   "cell_type": "code",
   "execution_count": 131,
   "id": "51686dd1",
   "metadata": {},
   "outputs": [],
   "source": [
    "def remove_outliers(train_data,train_targets):\n",
    "    from scipy import stats\n",
    "    import numpy as np\n",
    "\n",
    "    # Calculate the z-scores\n",
    "    z_scores = stats.zscore(train_data)\n",
    "    abs_z_scores = np.abs(z_scores)\n",
    "    # Select data points with a z-scores above or below 3\n",
    "    filtered_entries = (abs_z_scores < 3).all(axis=1)\n",
    "    train_wo_outliers = train_data[filtered_entries]\n",
    "    train_targets = train_targets[filtered_entries]\n",
    "    return train_wo_outliers,train_targets"
   ]
  },
  {
   "cell_type": "code",
   "execution_count": 132,
   "id": "17236fbc",
   "metadata": {},
   "outputs": [],
   "source": [
    "if SDn==1:\n",
    "    train_data,train_targets = remove_outliers(train_data,train_targets)"
   ]
  },
  {
   "cell_type": "markdown",
   "id": "35c7fa20",
   "metadata": {},
   "source": [
    "## Data Balancing For Classification Dataset"
   ]
  },
  {
   "cell_type": "code",
   "execution_count": 133,
   "id": "7b7c19c0",
   "metadata": {},
   "outputs": [],
   "source": [
    "import numpy as np\n",
    "import pandas as pd\n",
    "\n",
    "def data_balancer(train_data,train_targets):\n",
    "    minor_class_recs = train_targets==1\n",
    "    train_minor =  train_data[minor_class_recs]\n",
    "    mul_times = 2 # how much will the class be duplicated\n",
    "    records = train_minor.to_numpy()\n",
    "    new_recs = []\n",
    "    for i in range(int(mul_times*records.shape[0])):\n",
    "        nnn = int(np.random.uniform(low=0,high=records.shape[0]))\n",
    "        tmp_rec = records[nnn,:] \n",
    "        new_recs.append(tmp_rec)\n",
    "    new_recs = np.array(new_recs)\n",
    "    old_recs = records\n",
    "    new_train_minor_data = np.concatenate((old_recs,new_recs),axis=0)\n",
    "    major_class_recs = train_targets==0\n",
    "    train_major =  train_data[major_class_recs]\n",
    "    train_major_np = train_major.to_numpy()\n",
    "    new_train_data_np = np.concatenate((train_major_np,new_train_minor_data),axis=0)\n",
    "    new_train_data = pd.DataFrame(new_train_data_np, columns=train_data.columns)\n",
    "    new_targets_np = np.concatenate((np.zeros((train_major_np.shape[0],1)),np.ones((new_train_minor_data.shape[0],1))),axis = 0)\n",
    "    new_train_data[\"targets\"] = (new_targets_np. astype(int))\n",
    "    from sklearn.utils import shuffle\n",
    "    new_data = shuffle(new_train_data)\n",
    "    new_train_targets = new_data[\"targets\"]\n",
    "    new_data.drop('targets', axis=1, inplace=True)\n",
    "    return new_data,new_train_targets"
   ]
  },
  {
   "cell_type": "code",
   "execution_count": 134,
   "id": "3444145c",
   "metadata": {},
   "outputs": [],
   "source": [
    "if SDn==1:\n",
    "    train_data_balanced,train_targets_balanced = data_balancer(train_data,train_targets)"
   ]
  },
  {
   "cell_type": "markdown",
   "id": "edfe62b7",
   "metadata": {},
   "source": [
    "## Models Fitting and Testing"
   ]
  },
  {
   "cell_type": "code",
   "execution_count": 138,
   "id": "8bd8607c",
   "metadata": {},
   "outputs": [
    {
     "name": "stdout",
     "output_type": "stream",
     "text": [
      "Training Acc for Logistic regression:  0.9499565728299187\n",
      "Training Precision for Logistic regression:  0.6012759170653907\n",
      "Training Recall for Logistic regression:  0.03799637169925418\n",
      "Training F1 for Logistic regression:  0.07147596928618827\n",
      "Training F1-weighted for Logistic regression:  0.9285198665916139\n",
      "Testing Acc for Logistic regression:  0.9293338150051725\n",
      "Testing Precision for Logistic regression:  0.4374443851219078\n",
      "Testing Recall for Logistic regression:  0.3109817813765182\n",
      "Testing F1 for Logistic regression:  0.36352880278044813\n",
      "Testing F1-weighted for Logistic regression:  0.9237144487477955\n",
      "Training Acc for Logistic regression with L2:  0.9499565728299187\n",
      "Training Precision for Logistic regression with L2:  0.6012759170653907\n",
      "Training Recall for Logistic regression with L2:  0.03799637169925418\n",
      "Training F1 for Logistic regression with L2:  0.07147596928618827\n",
      "Training F1-weighted for Logistic regression with L2:  0.9285198665916139\n",
      "Testing Acc for Logistic regression with L2:  0.9293173943742918\n",
      "Testing Precision for Logistic regression with L2:  0.43722172751558325\n",
      "Testing Recall for Logistic regression with L2:  0.3106022267206478\n",
      "Testing F1 for Logistic regression with L2:  0.36319254382720617\n",
      "Testing F1-weighted for Logistic regression with L2:  0.9236851069970127\n",
      "Training Acc for Logistic regression Balanced Data:  0.9390486895212793\n",
      "Training Precision for Logistic regression Balanced Data:  0.3299745977984759\n",
      "Training Recall for Logistic regression Balanced Data:  0.19638177786736544\n",
      "Training F1 for Logistic regression Balanced Data:  0.24622480571175837\n",
      "Training F1-weighted for Logistic regression Balanced Data:  0.9316396665087568\n",
      "Testing Acc for Logistic regression Balanced Data:  0.9206555115847551\n",
      "Testing Precision for Logistic regression Balanced Data:  0.3899724931232808\n",
      "Testing Recall for Logistic regression Balanced Data:  0.3946103238866397\n",
      "Testing F1 for Logistic regression Balanced Data:  0.3922777009181235\n",
      "Testing F1-weighted for Logistic regression Balanced Data:  0.9208736443164153\n",
      "Training Acc for Logistic regression with L2 Balanced Data:  0.9390589076789455\n",
      "Training Precision for Logistic regression with L2 Balanced Data:  0.3300863967474166\n",
      "Training Recall for Logistic regression with L2 Balanced Data:  0.19638177786736544\n",
      "Training F1 for Logistic regression with L2 Balanced Data:  0.24625592417061612\n",
      "Training F1-weighted for Logistic regression with L2 Balanced Data:  0.9316464589169293\n",
      "Testing Acc for Logistic regression with L2 Balanced Data:  0.9206555115847551\n",
      "Testing Precision for Logistic regression with L2 Balanced Data:  0.3899724931232808\n",
      "Testing Recall for Logistic regression with L2 Balanced Data:  0.3946103238866397\n",
      "Testing F1 for Logistic regression with L2 Balanced Data:  0.3922777009181235\n",
      "Testing F1-weighted for Logistic regression with L2 Balanced Data:  0.9208736443164153\n"
     ]
    }
   ],
   "source": [
    "if SDn==0:\n",
    "    model = fit_LR(train_data,train_targets)\n",
    "    LR_pred_test_targets = model.predict(test_data)\n",
    "    LR_pred_train_targets = model.predict(train_data)\n",
    "    # polynomial regression\n",
    "    model = fit_PLR(train_data,train_targets,val_data,val_targets)\n",
    "    PLR_pred_test_targets = model.predict(test_data)\n",
    "    PLR_pred_train_targets = model.predict(train_data)\n",
    "    # NN\n",
    "    model = fit_NN(train_data,train_targets)\n",
    "    NN_pred_test_targets = model.predict(test_data)\n",
    "    NN_pred_train_targets = model.predict(train_data)\n",
    "    # printing\n",
    "    from sklearn import metrics\n",
    "    import numpy as np\n",
    "    \n",
    "    print('Training Mean Absolute Error For LR:', metrics.mean_absolute_error(train_targets, LR_pred_train_targets))\n",
    "    print('Training Mean Absolute Error For PLR:', metrics.mean_absolute_error(train_targets, PLR_pred_train_targets))\n",
    "    print('Training Mean Absolute Error For NN:', metrics.mean_absolute_error(train_targets, NN_pred_train_targets))\n",
    "    \n",
    "    print('Testing Mean Absolute Error For LR:', metrics.mean_absolute_error(test_targets, LR_pred_test_targets))\n",
    "    print('Testing Mean Absolute Error For PLR:', metrics.mean_absolute_error(test_targets, PLR_pred_test_targets))\n",
    "    print('Testing Mean Absolute Error For NN:', metrics.mean_absolute_error(test_targets, NN_pred_test_targets))\n",
    "    \n",
    "    print('Training Mean Squared Error For LR:', metrics.mean_squared_error(train_targets, LR_pred_train_targets))\n",
    "    print('Training Mean Squared Error For PLR:', metrics.mean_squared_error(train_targets, PLR_pred_train_targets))\n",
    "    print('Training Mean Squared Error For NN:', metrics.mean_squared_error(train_targets, NN_pred_train_targets))\n",
    "    \n",
    "    print('Testing Mean Squared Error For LR:', metrics.mean_squared_error(test_targets, LR_pred_test_targets))\n",
    "    print('Testing Mean Squared Error For PLR:', metrics.mean_squared_error(test_targets, PLR_pred_test_targets))\n",
    "    print('Testing Mean Squared Error For NN:', metrics.mean_squared_error(test_targets, NN_pred_test_targets))\n",
    "\n",
    "    print('Training Root Mean Squared Error  For LR:', np.sqrt(metrics.mean_squared_error(train_targets, LR_pred_train_targets)))\n",
    "    print('Training Root Mean Squared Error For PLR:', np.sqrt(metrics.mean_squared_error(train_targets, PLR_pred_train_targets)))\n",
    "    print('Training Root Mean Squared Error For NN:', np.sqrt(metrics.mean_squared_error(train_targets, NN_pred_train_targets)))\n",
    "    \n",
    "    print('Testing Root Mean Squared Error  For LR:', np.sqrt(metrics.mean_squared_error(test_targets, LR_pred_test_targets)))\n",
    "    print('Testing Root Mean Squared Error For PLR:', np.sqrt(metrics.mean_squared_error(test_targets, PLR_pred_test_targets)))\n",
    "    print('Testing Root Mean Squared Error For NN:', np.sqrt(metrics.mean_squared_error(test_targets, NN_pred_test_targets)))\n",
    "    \n",
    "    print('Training R2  For LR:', metrics.r2_score(train_targets, LR_pred_train_targets))\n",
    "    print('Training R2  For PLR:', metrics.r2_score(train_targets, PLR_pred_train_targets))\n",
    "    print('Training R2  For NN:', metrics.r2_score(train_targets, NN_pred_train_targets))\n",
    "    \n",
    "    print('Testing R2  For LR:', metrics.r2_score(test_targets, LR_pred_test_targets))\n",
    "    print('Testing R2  For PLR:', metrics.r2_score(test_targets, PLR_pred_test_targets))\n",
    "    print('Testing R2  For NN:', metrics.r2_score(test_targets, NN_pred_test_targets))\n",
    "\n",
    "else:\n",
    "    from sklearn import metrics\n",
    "    \n",
    "    model = Log_reg_fit(train_data,train_targets)\n",
    "    Log_reg_pred_test_targets = model.predict(test_data)\n",
    "    Log_reg_pred_train_targets =  model.predict(train_data)\n",
    "    model = Log_reg_fit(train_data_balanced,train_targets_balanced)\n",
    "    Log_reg_pred_test_targets_balanc = model.predict(test_data)\n",
    "    Log_reg_pred_train_targets_balanc = model.predict(train_data)\n",
    "    model = Log_reg_L2_fit(train_data,train_targets)\n",
    "    Log_reg_L2_pred_test_targets = model.predict(test_data)\n",
    "    Log_reg_L2_pred_train_targets = model.predict(train_data)\n",
    "    model = Log_reg_L2_fit(train_data_balanced,train_targets_balanced)\n",
    "    Log_reg_L2_pred_test_targets_balanc = model.predict(test_data)\n",
    "    Log_reg_L2_pred_train_targets_balanc = model.predict(train_data)\n",
    "    # classif_models.run_classif_models()\n",
    "    \n",
    "    precision_Log_train = metrics.precision_score(train_targets,Log_reg_pred_train_targets)\n",
    "    print('Training Acc for Logistic regression: ',metrics.accuracy_score(train_targets,Log_reg_pred_train_targets))\n",
    "    print('Training Precision for Logistic regression: ',precision_Log_train)\n",
    "    recall_Log_train = metrics.recall_score(train_targets,Log_reg_pred_train_targets)\n",
    "    print('Training Recall for Logistic regression: ',recall_Log_train)\n",
    "    print('Training F1 for Logistic regression: ',2 * (precision_Log_train * recall_Log_train) / (precision_Log_train + recall_Log_train))\n",
    "    print('Training F1-weighted for Logistic regression: ',metrics.f1_score(train_targets, Log_reg_pred_train_targets, average='weighted'))\n",
    "    \n",
    "    \n",
    "    precision_Log = metrics.precision_score(test_targets,Log_reg_pred_test_targets)\n",
    "    print('Testing Acc for Logistic regression: ',metrics.accuracy_score(test_targets,Log_reg_pred_test_targets))\n",
    "    print('Testing Precision for Logistic regression: ',precision_Log)\n",
    "    recall_Log = metrics.recall_score(test_targets,Log_reg_pred_test_targets)\n",
    "    print('Testing Recall for Logistic regression: ',recall_Log)\n",
    "    print('Testing F1 for Logistic regression: ',2 * (precision_Log * recall_Log) / (precision_Log + recall_Log))\n",
    "    print('Testing F1-weighted for Logistic regression: ',metrics.f1_score(test_targets, Log_reg_pred_test_targets, average='weighted'))\n",
    "    \n",
    "    precision_Log_L2_train = metrics.precision_score(train_targets,Log_reg_L2_pred_train_targets)\n",
    "    print('Training Acc for Logistic regression with L2: ',metrics.accuracy_score(train_targets,Log_reg_L2_pred_train_targets))\n",
    "    print('Training Precision for Logistic regression with L2: ',precision_Log_L2_train)\n",
    "    recall_Log_L2_train = metrics.recall_score(train_targets,Log_reg_L2_pred_train_targets)\n",
    "    print('Training Recall for Logistic regression with L2: ',recall_Log_L2_train)\n",
    "    print('Training F1 for Logistic regression with L2: ',2 * (precision_Log_L2_train * recall_Log_L2_train) / (precision_Log_L2_train + recall_Log_L2_train))\n",
    "    print('Training F1-weighted for Logistic regression with L2: ',metrics.f1_score(train_targets, Log_reg_L2_pred_train_targets, average='weighted'))\n",
    "    \n",
    "    precision_Log_L2 = metrics.precision_score(test_targets,Log_reg_L2_pred_test_targets)\n",
    "    print('Testing Acc for Logistic regression with L2: ',metrics.accuracy_score(test_targets,Log_reg_L2_pred_test_targets))\n",
    "    print('Testing Precision for Logistic regression with L2: ',precision_Log_L2)\n",
    "    recall_Log_L2 = metrics.recall_score(test_targets,Log_reg_L2_pred_test_targets)\n",
    "    print('Testing Recall for Logistic regression with L2: ',recall_Log_L2)\n",
    "    print('Testing F1 for Logistic regression with L2: ',2 * (precision_Log_L2 * recall_Log_L2) / (precision_Log_L2 + recall_Log_L2))\n",
    "    print('Testing F1-weighted for Logistic regression with L2: ',metrics.f1_score(test_targets, Log_reg_L2_pred_test_targets, average='weighted'))\n",
    "\n",
    "    precision_Log_balanc_train = metrics.precision_score(train_targets,Log_reg_pred_train_targets_balanc)\n",
    "    print('Training Acc for Logistic regression Balanced Data: ',metrics.accuracy_score(train_targets,Log_reg_pred_train_targets_balanc))\n",
    "    print('Training Precision for Logistic regression Balanced Data: ',precision_Log_balanc_train)\n",
    "    recall_Log_balanc_train = metrics.recall_score(train_targets,Log_reg_pred_train_targets_balanc)\n",
    "    print('Training Recall for Logistic regression Balanced Data: ',recall_Log_balanc_train)\n",
    "    print('Training F1 for Logistic regression Balanced Data: ',2 * (precision_Log_balanc_train * recall_Log_balanc_train) / (precision_Log_balanc_train + recall_Log_balanc_train))\n",
    "    print('Training F1-weighted for Logistic regression Balanced Data: ',metrics.f1_score(train_targets, Log_reg_pred_train_targets_balanc, average='weighted'))\n",
    "\n",
    "    precision_Log_balanc = metrics.precision_score(test_targets,Log_reg_pred_test_targets_balanc)\n",
    "    print('Testing Acc for Logistic regression Balanced Data: ',metrics.accuracy_score(test_targets,Log_reg_pred_test_targets_balanc))\n",
    "    print('Testing Precision for Logistic regression Balanced Data: ',precision_Log_balanc)\n",
    "    recall_Log_balanc = metrics.recall_score(test_targets,Log_reg_pred_test_targets_balanc)\n",
    "    print('Testing Recall for Logistic regression Balanced Data: ',recall_Log_balanc)\n",
    "    print('Testing F1 for Logistic regression Balanced Data: ',2 * (precision_Log_balanc * recall_Log_balanc) / (precision_Log_balanc + recall_Log_balanc))\n",
    "    print('Testing F1-weighted for Logistic regression Balanced Data: ',metrics.f1_score(test_targets, Log_reg_pred_test_targets_balanc, average='weighted'))\n",
    "\n",
    "    \n",
    "    precision_Log_L2_balanc_train = metrics.precision_score(train_targets,Log_reg_L2_pred_train_targets_balanc)\n",
    "    print('Training Acc for Logistic regression with L2 Balanced Data: ',metrics.accuracy_score(train_targets,Log_reg_L2_pred_train_targets_balanc))\n",
    "    print('Training Precision for Logistic regression with L2 Balanced Data: ',precision_Log_L2_balanc_train)\n",
    "    recall_Log_L2_balanc_train = metrics.recall_score(train_targets,Log_reg_L2_pred_train_targets_balanc)\n",
    "    print('Training Recall for Logistic regression with L2 Balanced Data: ',recall_Log_L2_balanc_train)\n",
    "    print('Training F1 for Logistic regression with L2 Balanced Data: ',2 * (precision_Log_L2_balanc_train * recall_Log_L2_balanc_train) / (precision_Log_L2_balanc_train + recall_Log_L2_balanc_train))\n",
    "    print('Training F1-weighted for Logistic regression with L2 Balanced Data: ',metrics.f1_score(train_targets, Log_reg_L2_pred_train_targets_balanc, average='weighted'))\n",
    "    \n",
    "    precision_Log_L2_balanc = metrics.precision_score(test_targets,Log_reg_L2_pred_test_targets_balanc)\n",
    "    print('Testing Acc for Logistic regression with L2 Balanced Data: ',metrics.accuracy_score(test_targets,Log_reg_L2_pred_test_targets_balanc))\n",
    "    print('Testing Precision for Logistic regression with L2 Balanced Data: ',precision_Log_L2_balanc)\n",
    "    recall_Log_L2_balanc = metrics.recall_score(test_targets,Log_reg_L2_pred_test_targets_balanc)\n",
    "    print('Testing Recall for Logistic regression with L2 Balanced Data: ',recall_Log_L2_balanc)\n",
    "    print('Testing F1 for Logistic regression with L2 Balanced Data: ',2 * (precision_Log_L2_balanc * recall_Log_L2_balanc) / (precision_Log_L2_balanc + recall_Log_L2_balanc))\n",
    "    print('Testing F1-weighted for Logistic regression with L2 Balanced Data: ',metrics.f1_score(test_targets, Log_reg_L2_pred_test_targets_balanc, average='weighted'))\n",
    "\n",
    "   "
   ]
  },
  {
   "cell_type": "code",
   "execution_count": 161,
   "id": "edea03ff",
   "metadata": {},
   "outputs": [],
   "source": [
    "def coloredBar(bars,height,titl):\n",
    "    colors = [[0.17, 0.78, 0.88],[0.6, 0.7, 0.84],[0.82, 0.6, 0.84],[0.88, 0.26, 0.58],\n",
    "              [0.72,0.2,0.34],[0.93,0.63,0.2],[0.93,0.87,0.2],[0.71,0.93,0.2],[0.3,0.51,0.05],\n",
    "              [0.11,0.23,0.81],[0.67,0.11,0.81]]\n",
    "    x_pos = np.arange(len(bars))\n",
    "    plt.figure()\n",
    "    for x in x_pos:\n",
    "        plt.bar(x, height[x], color=colors[x], label = bars[x])\n",
    "        plt.legend(loc='best')\n",
    "    plt.title(titl)\n",
    "    plt.show()"
   ]
  },
  {
   "cell_type": "code",
   "execution_count": 162,
   "id": "602ecb0c",
   "metadata": {},
   "outputs": [
    {
     "data": {
      "image/png": "[encoded data removed]",
      "text/plain": [
       "<Figure size 640x480 with 1 Axes>"
      ]
     },
     "metadata": {},
     "output_type": "display_data"
    },
    {
     "data": {
      "image/png": "[encoded data removed]",
      "text/plain": [
       "<Figure size 640x480 with 1 Axes>"
      ]
     },
     "metadata": {},
     "output_type": "display_data"
    }
   ],
   "source": [
    "bars = ['F1_train_before_balance', 'F1_train_after_balance']\n",
    "F1_train_befor_balancing = 2 * (precision_Log_train * recall_Log_train) / (precision_Log_train + recall_Log_train)\n",
    "F1_train_after_balancing = 2 * (precision_Log_balanc_train * recall_Log_balanc_train) / (precision_Log_balanc_train + recall_Log_balanc_train)\n",
    "F1_test_befor_balancing = 2 * (precision_Log * recall_Log) / (precision_Log + recall_Log)\n",
    "F1_test_after_balancing = 2 * (precision_Log_balanc * recall_Log_balanc) / (precision_Log_balanc + recall_Log_balanc)\n",
    "coloredBar(bars,[F1_train_befor_balancing,F1_train_after_balancing],'balancing impact on training data')\n",
    "bars = ['F1_test_before_balance', 'F1_test_after_balance']\n",
    "coloredBar(bars,[F1_test_befor_balancing,F1_test_after_balancing],'balancing impact on testing data')"
   ]
  },
  {
   "cell_type": "code",
   "execution_count": null,
   "id": "08d7a2b2",
   "metadata": {},
   "outputs": [],
   "source": []
  }
 ],
 "metadata": {
  "kernelspec": {
   "display_name": "Python 3 (ipykernel)",
   "language": "python",
   "name": "python3"
  },
  "language_info": {
   "codemirror_mode": {
    "name": "ipython",
    "version": 3
   },
   "file_extension": ".py",
   "mimetype": "text/x-python",
   "name": "python",
   "nbconvert_exporter": "python",
   "pygments_lexer": "ipython3",
   "version": "3.9.13"
  }
 },
 "nbformat": 4,
 "nbformat_minor": 5
}
