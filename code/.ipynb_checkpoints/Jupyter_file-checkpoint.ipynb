{
 "cells": [
  {
   "cell_type": "code",
   "execution_count": 1,
   "id": "76f13df6",
   "metadata": {},
   "outputs": [],
   "source": [
    "#%% reading the data\n",
    "# select the data number\n",
    "# 0- bitrate\n",
    "# 1 - stream quality\n",
    "from sklearn.model_selection import train_test_split\n",
    "SDn = 0\n",
    "DSs = ['bitrate_prediction','stream_quality_data']\n",
    "# loading training and testing\n",
    "import os\n",
    "init_dir = os.path.abspath(os.path.join(os.getcwd(), os.pardir)) + \"\\\\data\\\\\"\n",
    "import pandas as pd\n",
    "train_data = pd.read_csv(init_dir + DSs[SDn] + '\\\\train_data.csv', low_memory=False)\n",
    "test_data = pd.read_csv(init_dir + DSs[SDn] + '\\\\test_data.csv', low_memory=False)\n",
    "train_targets = train_data['target']\n",
    "test_targets = test_data['target']\n",
    "\n",
    "test_data, val_data, test_targets, val_targets = train_test_split(test_data, test_targets,test_size=0.5)\n",
    "train_data.drop('target', axis=1, inplace=True)\n",
    "test_data.drop('target', axis=1, inplace=True)\n",
    "val_data.drop('target', axis=1, inplace=True)"
   ]
  },
  {
   "cell_type": "code",
   "execution_count": 2,
   "id": "220c24fc",
   "metadata": {},
   "outputs": [
    {
     "data": {
      "text/plain": [
       "pandas.core.series.Series"
      ]
     },
     "execution_count": 2,
     "metadata": {},
     "output_type": "execute_result"
    }
   ],
   "source": [
    "type(val_data)\n",
    "type(train_targets)"
   ]
  },
  {
   "cell_type": "code",
   "execution_count": 3,
   "id": "3fcd6392",
   "metadata": {},
   "outputs": [],
   "source": [
    "import matplotlib.pyplot as plt\n",
    "%matplotlib inline"
   ]
  },
  {
   "cell_type": "code",
   "execution_count": 4,
   "id": "dca47cb4",
   "metadata": {},
   "outputs": [
    {
     "data": {
      "text/html": [
       "<div>\n",
       "<style scoped>\n",
       "    .dataframe tbody tr th:only-of-type {\n",
       "        vertical-align: middle;\n",
       "    }\n",
       "\n",
       "    .dataframe tbody tr th {\n",
       "        vertical-align: top;\n",
       "    }\n",
       "\n",
       "    .dataframe thead th {\n",
       "        text-align: right;\n",
       "    }\n",
       "</style>\n",
       "<table border=\"1\" class=\"dataframe\">\n",
       "  <thead>\n",
       "    <tr style=\"text-align: right;\">\n",
       "      <th></th>\n",
       "      <th>fps_mean</th>\n",
       "      <th>fps_std</th>\n",
       "      <th>rtt_mean</th>\n",
       "      <th>rtt_std</th>\n",
       "      <th>dropped_frames_mean</th>\n",
       "      <th>dropped_frames_std</th>\n",
       "      <th>dropped_frames_max</th>\n",
       "      <th>bitrate_mean</th>\n",
       "      <th>bitrate_std</th>\n",
       "    </tr>\n",
       "  </thead>\n",
       "  <tbody>\n",
       "    <tr>\n",
       "      <th>0</th>\n",
       "      <td>24.4</td>\n",
       "      <td>0.516398</td>\n",
       "      <td>91.1</td>\n",
       "      <td>6.723921</td>\n",
       "      <td>0.0</td>\n",
       "      <td>0.0</td>\n",
       "      <td>0.0</td>\n",
       "      <td>460.5</td>\n",
       "      <td>7.648529</td>\n",
       "    </tr>\n",
       "    <tr>\n",
       "      <th>1</th>\n",
       "      <td>28.6</td>\n",
       "      <td>2.065591</td>\n",
       "      <td>99.7</td>\n",
       "      <td>15.923777</td>\n",
       "      <td>0.0</td>\n",
       "      <td>0.0</td>\n",
       "      <td>0.0</td>\n",
       "      <td>616.3</td>\n",
       "      <td>155.414893</td>\n",
       "    </tr>\n",
       "    <tr>\n",
       "      <th>2</th>\n",
       "      <td>30.0</td>\n",
       "      <td>0.000000</td>\n",
       "      <td>98.1</td>\n",
       "      <td>11.798776</td>\n",
       "      <td>0.0</td>\n",
       "      <td>0.0</td>\n",
       "      <td>0.0</td>\n",
       "      <td>565.2</td>\n",
       "      <td>9.077445</td>\n",
       "    </tr>\n",
       "    <tr>\n",
       "      <th>3</th>\n",
       "      <td>30.3</td>\n",
       "      <td>0.948683</td>\n",
       "      <td>99.4</td>\n",
       "      <td>13.014522</td>\n",
       "      <td>0.0</td>\n",
       "      <td>0.0</td>\n",
       "      <td>0.0</td>\n",
       "      <td>573.8</td>\n",
       "      <td>28.350191</td>\n",
       "    </tr>\n",
       "    <tr>\n",
       "      <th>4</th>\n",
       "      <td>29.9</td>\n",
       "      <td>0.316228</td>\n",
       "      <td>123.2</td>\n",
       "      <td>62.476307</td>\n",
       "      <td>0.0</td>\n",
       "      <td>0.0</td>\n",
       "      <td>0.0</td>\n",
       "      <td>585.8</td>\n",
       "      <td>59.458295</td>\n",
       "    </tr>\n",
       "  </tbody>\n",
       "</table>\n",
       "</div>"
      ],
      "text/plain": [
       "   fps_mean   fps_std  rtt_mean    rtt_std  dropped_frames_mean  \\\n",
       "0      24.4  0.516398      91.1   6.723921                  0.0   \n",
       "1      28.6  2.065591      99.7  15.923777                  0.0   \n",
       "2      30.0  0.000000      98.1  11.798776                  0.0   \n",
       "3      30.3  0.948683      99.4  13.014522                  0.0   \n",
       "4      29.9  0.316228     123.2  62.476307                  0.0   \n",
       "\n",
       "   dropped_frames_std  dropped_frames_max  bitrate_mean  bitrate_std  \n",
       "0                 0.0                 0.0         460.5     7.648529  \n",
       "1                 0.0                 0.0         616.3   155.414893  \n",
       "2                 0.0                 0.0         565.2     9.077445  \n",
       "3                 0.0                 0.0         573.8    28.350191  \n",
       "4                 0.0                 0.0         585.8    59.458295  "
      ]
     },
     "execution_count": 4,
     "metadata": {},
     "output_type": "execute_result"
    }
   ],
   "source": [
    "train_data.head(5)"
   ]
  },
  {
   "cell_type": "code",
   "execution_count": 5,
   "id": "a32456bb",
   "metadata": {},
   "outputs": [
    {
     "name": "stdout",
     "output_type": "stream",
     "text": [
      "Number categorical featues: 0\n",
      "fps_mean               float64\n",
      "fps_std                float64\n",
      "rtt_mean               float64\n",
      "rtt_std                float64\n",
      "dropped_frames_mean    float64\n",
      "dropped_frames_std     float64\n",
      "dropped_frames_max     float64\n",
      "bitrate_mean           float64\n",
      "bitrate_std            float64\n",
      "dtype: object\n"
     ]
    }
   ],
   "source": [
    "types = train_data.dtypes\n",
    "print(\"Number categorical featues:\", sum(types=='object'))\n",
    "print(types)"
   ]
  },
  {
   "cell_type": "code",
   "execution_count": 6,
   "id": "2b16ae9c",
   "metadata": {},
   "outputs": [
    {
     "data": {
      "text/html": [
       "<div>\n",
       "<style scoped>\n",
       "    .dataframe tbody tr th:only-of-type {\n",
       "        vertical-align: middle;\n",
       "    }\n",
       "\n",
       "    .dataframe tbody tr th {\n",
       "        vertical-align: top;\n",
       "    }\n",
       "\n",
       "    .dataframe thead th {\n",
       "        text-align: right;\n",
       "    }\n",
       "</style>\n",
       "<table border=\"1\" class=\"dataframe\">\n",
       "  <thead>\n",
       "    <tr style=\"text-align: right;\">\n",
       "      <th></th>\n",
       "      <th>fps_mean</th>\n",
       "      <th>fps_std</th>\n",
       "      <th>rtt_mean</th>\n",
       "      <th>rtt_std</th>\n",
       "      <th>dropped_frames_mean</th>\n",
       "      <th>dropped_frames_std</th>\n",
       "      <th>dropped_frames_max</th>\n",
       "      <th>bitrate_mean</th>\n",
       "      <th>bitrate_std</th>\n",
       "    </tr>\n",
       "  </thead>\n",
       "  <tbody>\n",
       "    <tr>\n",
       "      <th>count</th>\n",
       "      <td>379021.000000</td>\n",
       "      <td>379021.000000</td>\n",
       "      <td>379021.000000</td>\n",
       "      <td>379021.000000</td>\n",
       "      <td>379021.000000</td>\n",
       "      <td>379021.000000</td>\n",
       "      <td>379021.000000</td>\n",
       "      <td>379021.000000</td>\n",
       "      <td>379021.000000</td>\n",
       "    </tr>\n",
       "    <tr>\n",
       "      <th>mean</th>\n",
       "      <td>35.231127</td>\n",
       "      <td>1.725705</td>\n",
       "      <td>49.623858</td>\n",
       "      <td>12.763672</td>\n",
       "      <td>0.180451</td>\n",
       "      <td>0.469548</td>\n",
       "      <td>1.450719</td>\n",
       "      <td>7516.585502</td>\n",
       "      <td>1603.487501</td>\n",
       "    </tr>\n",
       "    <tr>\n",
       "      <th>std</th>\n",
       "      <td>10.975010</td>\n",
       "      <td>2.505942</td>\n",
       "      <td>94.781098</td>\n",
       "      <td>112.684460</td>\n",
       "      <td>1.732890</td>\n",
       "      <td>3.157866</td>\n",
       "      <td>9.670928</td>\n",
       "      <td>6073.992189</td>\n",
       "      <td>1721.021623</td>\n",
       "    </tr>\n",
       "    <tr>\n",
       "      <th>min</th>\n",
       "      <td>10.000000</td>\n",
       "      <td>0.000000</td>\n",
       "      <td>0.000000</td>\n",
       "      <td>0.000000</td>\n",
       "      <td>0.000000</td>\n",
       "      <td>0.000000</td>\n",
       "      <td>0.000000</td>\n",
       "      <td>0.000000</td>\n",
       "      <td>0.000000</td>\n",
       "    </tr>\n",
       "    <tr>\n",
       "      <th>25%</th>\n",
       "      <td>28.800000</td>\n",
       "      <td>0.316228</td>\n",
       "      <td>14.300000</td>\n",
       "      <td>0.699206</td>\n",
       "      <td>0.000000</td>\n",
       "      <td>0.000000</td>\n",
       "      <td>0.000000</td>\n",
       "      <td>2773.300000</td>\n",
       "      <td>383.683550</td>\n",
       "    </tr>\n",
       "    <tr>\n",
       "      <th>50%</th>\n",
       "      <td>30.000000</td>\n",
       "      <td>0.942809</td>\n",
       "      <td>32.200000</td>\n",
       "      <td>1.433721</td>\n",
       "      <td>0.000000</td>\n",
       "      <td>0.000000</td>\n",
       "      <td>0.000000</td>\n",
       "      <td>6287.200000</td>\n",
       "      <td>1112.710010</td>\n",
       "    </tr>\n",
       "    <tr>\n",
       "      <th>75%</th>\n",
       "      <td>43.600000</td>\n",
       "      <td>2.233582</td>\n",
       "      <td>55.900000</td>\n",
       "      <td>4.948625</td>\n",
       "      <td>0.000000</td>\n",
       "      <td>0.000000</td>\n",
       "      <td>0.000000</td>\n",
       "      <td>10187.200000</td>\n",
       "      <td>2241.848801</td>\n",
       "    </tr>\n",
       "    <tr>\n",
       "      <th>max</th>\n",
       "      <td>125.800000</td>\n",
       "      <td>307.167273</td>\n",
       "      <td>12898.400000</td>\n",
       "      <td>40721.933293</td>\n",
       "      <td>540.000000</td>\n",
       "      <td>202.385770</td>\n",
       "      <td>640.000000</td>\n",
       "      <td>64913.500000</td>\n",
       "      <td>26908.532303</td>\n",
       "    </tr>\n",
       "  </tbody>\n",
       "</table>\n",
       "</div>"
      ],
      "text/plain": [
       "            fps_mean        fps_std       rtt_mean        rtt_std  \\\n",
       "count  379021.000000  379021.000000  379021.000000  379021.000000   \n",
       "mean       35.231127       1.725705      49.623858      12.763672   \n",
       "std        10.975010       2.505942      94.781098     112.684460   \n",
       "min        10.000000       0.000000       0.000000       0.000000   \n",
       "25%        28.800000       0.316228      14.300000       0.699206   \n",
       "50%        30.000000       0.942809      32.200000       1.433721   \n",
       "75%        43.600000       2.233582      55.900000       4.948625   \n",
       "max       125.800000     307.167273   12898.400000   40721.933293   \n",
       "\n",
       "       dropped_frames_mean  dropped_frames_std  dropped_frames_max  \\\n",
       "count        379021.000000       379021.000000       379021.000000   \n",
       "mean              0.180451            0.469548            1.450719   \n",
       "std               1.732890            3.157866            9.670928   \n",
       "min               0.000000            0.000000            0.000000   \n",
       "25%               0.000000            0.000000            0.000000   \n",
       "50%               0.000000            0.000000            0.000000   \n",
       "75%               0.000000            0.000000            0.000000   \n",
       "max             540.000000          202.385770          640.000000   \n",
       "\n",
       "        bitrate_mean    bitrate_std  \n",
       "count  379021.000000  379021.000000  \n",
       "mean     7516.585502    1603.487501  \n",
       "std      6073.992189    1721.021623  \n",
       "min         0.000000       0.000000  \n",
       "25%      2773.300000     383.683550  \n",
       "50%      6287.200000    1112.710010  \n",
       "75%     10187.200000    2241.848801  \n",
       "max     64913.500000   26908.532303  "
      ]
     },
     "execution_count": 6,
     "metadata": {},
     "output_type": "execute_result"
    }
   ],
   "source": [
    "train_data.describe()"
   ]
  },
  {
   "cell_type": "code",
   "execution_count": 7,
   "id": "6473b039",
   "metadata": {},
   "outputs": [],
   "source": [
    "from pandas_profiling import ProfileReport\n",
    "\n",
    "report = ProfileReport(train_data)\n",
    "#report.to_file('data_profile_report.html')"
   ]
  },
  {
   "cell_type": "code",
   "execution_count": 8,
   "id": "18df0190",
   "metadata": {},
   "outputs": [
    {
     "name": "stdout",
     "output_type": "stream",
     "text": [
      "#Empty missing data cells in the dataset =  0\n"
     ]
    }
   ],
   "source": [
    "from sklearn.impute import SimpleImputer\n",
    "import numpy as np\n",
    "\n",
    "#TODO: Complete a function that returns number of empty cells \n",
    "def count_nans(df):\n",
    "    # 1 or 2 lines.\n",
    "    return np.sum(np.sum(np.isnan(df))) #np.count_nonzero(~np.isnan(df))\n",
    "\n",
    "# Print number of empty cells (1 line)\n",
    "print(\"#Empty missing data cells in the dataset = \", count_nans(train_data))"
   ]
  },
  {
   "cell_type": "code",
   "execution_count": 9,
   "id": "e38f4d41",
   "metadata": {},
   "outputs": [],
   "source": [
    "from sklearn.preprocessing import RobustScaler\n",
    "\n",
    "scaler = RobustScaler()\n",
    "\n",
    "scaler.fit(train_data)\n",
    "scaled_data = scaler.transform(train_data)\n"
   ]
  },
  {
   "cell_type": "code",
   "execution_count": 10,
   "id": "b7a410b0",
   "metadata": {},
   "outputs": [],
   "source": [
    "from sklearn.decomposition import PCA\n",
    "\n",
    "dim_reducer = PCA(n_components=2)\n",
    "x_train_reduced = dim_reducer.fit_transform(train_data)"
   ]
  },
  {
   "cell_type": "code",
   "execution_count": 11,
   "id": "9915b68c",
   "metadata": {},
   "outputs": [
    {
     "data": {
      "image/png": "[encoded data removed]",
      "text/plain": [
       "<Figure size 640x480 with 1 Axes>"
      ]
     },
     "metadata": {},
     "output_type": "display_data"
    }
   ],
   "source": [
    "plt.scatter(x_train_reduced[:, 0], x_train_reduced[:, 1], marker='.')\n",
    "plt.show()"
   ]
  },
  {
   "cell_type": "code",
   "execution_count": 12,
   "id": "ea1bc8d2",
   "metadata": {},
   "outputs": [
    {
     "name": "stdout",
     "output_type": "stream",
     "text": [
      "AxesSubplot(0.125,0.11;0.775x0.77)\n"
     ]
    },
    {
     "data": {
      "image/png": "[encoded data removed]",
      "text/plain": [
       "<Figure size 640x480 with 1 Axes>"
      ]
     },
     "metadata": {},
     "output_type": "display_data"
    }
   ],
   "source": [
    "#import libraries\n",
    "from sklearn.feature_selection import SelectKBest\n",
    "from sklearn.feature_selection import chi2\n",
    "import matplotlib.pyplot as plt\n",
    "#Fit the model\n",
    "bestfeatures = SelectKBest(score_func=chi2, k=3)\n",
    "fit = bestfeatures.fit(val_data.astype('int'),val_targets.astype('int'))\n",
    "dfscores = pd.DataFrame(fit.scores_)\n",
    "dfcolumns = pd.DataFrame(val_data.columns)\n",
    "#concatenate the two dataframes\n",
    "featureScores = pd.concat([dfcolumns,dfscores],axis=1)\n",
    "featureScores.columns = ['Feats','Score']\n",
    "#print 10 best features\n",
    "print(featureScores.nlargest(9,'Score').plot(kind='barh'))\n",
    "#plot graph of feature importances \n",
    "plt.show()\n",
    "new_train_data = SelectKBest(chi2, k=3).fit_transform(train_data, train_targets)"
   ]
  },
  {
   "cell_type": "code",
   "execution_count": 13,
   "id": "ddd6ef1d",
   "metadata": {},
   "outputs": [],
   "source": [
    "bestFeats = bestfeatures.get_feature_names_out(input_features=None)"
   ]
  },
  {
   "cell_type": "code",
   "execution_count": 14,
   "id": "224b19a0",
   "metadata": {},
   "outputs": [
    {
     "name": "stdout",
     "output_type": "stream",
     "text": [
      "Model intercept : 368.69624775801185\n",
      "Model coefficient : [-0.23070036  0.9261652   0.1235087 ]\n"
     ]
    },
    {
     "name": "stderr",
     "output_type": "stream",
     "text": [
      "C:\\Users\\user\\anaconda3\\lib\\site-packages\\sklearn\\base.py:443: UserWarning: X has feature names, but LinearRegression was fitted without feature names\n",
      "  warnings.warn(\n",
      "C:\\Users\\user\\anaconda3\\lib\\site-packages\\sklearn\\base.py:443: UserWarning: X has feature names, but LinearRegression was fitted without feature names\n",
      "  warnings.warn(\n"
     ]
    }
   ],
   "source": [
    "from sklearn.linear_model import LinearRegression\n",
    "from sklearn import metrics\n",
    "regressor = LinearRegression()\n",
    "regressor.fit(new_train_data, train_targets)\n",
    "print(f\"Model intercept : {regressor.intercept_}\")\n",
    "print(f\"Model coefficient : {regressor.coef_}\")\n",
    "\n",
    "new_test_data = test_data[bestFeats]\n",
    "new_val_data = val_data[bestFeats]\n",
    "LR_pred_test_targets = regressor.predict(new_test_data)\n",
    "LR_pred_val_targets =  regressor.predict(new_val_data)\n",
    "LR_pred_train_targets = regressor.predict(new_train_data)\n",
    "#eval_df = pd.DataFrame({'Actual': test_targets, 'Predicted': pred_targets})"
   ]
  },
  {
   "cell_type": "code",
   "execution_count": 15,
   "id": "b067972b",
   "metadata": {},
   "outputs": [
    {
     "name": "stdout",
     "output_type": "stream",
     "text": [
      "Mean Absolute Error: 1072.0648565260556\n",
      "Mean Squared Error: 3731162.723702865\n",
      "Root Mean Squared Error: 1931.6217858843033\n",
      "R2: 0.8959621012479251\n"
     ]
    }
   ],
   "source": [
    "print('Mean Absolute Error:', metrics.mean_absolute_error(test_targets, LR_pred_test_targets))\n",
    "print('Mean Squared Error:', metrics.mean_squared_error(test_targets, LR_pred_test_targets))\n",
    "print('Root Mean Squared Error:', np.sqrt(metrics.mean_squared_error(test_targets, LR_pred_test_targets)))\n",
    "print('R2:', metrics.r2_score(test_targets, LR_pred_test_targets))"
   ]
  },
  {
   "cell_type": "markdown",
   "id": "849cbee6",
   "metadata": {},
   "source": [
    "#%%%%%%%%%%%%%%%%%%%%%%%%%%%%%%%%%%%%%%\n",
    "Polynomial Linear Regression\n",
    "#%%%%%%%%%%%%%%%%%%%%%%%%%%%%%%%%%%%%%"
   ]
  },
  {
   "cell_type": "code",
   "execution_count": 16,
   "id": "0972617c",
   "metadata": {},
   "outputs": [],
   "source": [
    "from sklearn.pipeline import Pipeline\n",
    "from sklearn.preprocessing import PolynomialFeatures #to convert the original features into their higher order terms \n",
    "from sklearn.model_selection import cross_val_score\n",
    "from sklearn.linear_model import Lasso, Ridge"
   ]
  },
  {
   "cell_type": "code",
   "execution_count": 17,
   "id": "25ea122c",
   "metadata": {},
   "outputs": [
    {
     "name": "stderr",
     "output_type": "stream",
     "text": [
      "C:\\Users\\user\\anaconda3\\lib\\site-packages\\sklearn\\linear_model\\_ridge.py:212: LinAlgWarning: Ill-conditioned matrix (rcond=9.87338e-23): result may not be accurate.\n",
      "  return linalg.solve(A, Xy, sym_pos=True, overwrite_a=True).T\n"
     ]
    },
    {
     "data": {
      "text/html": [
       "<style>#sk-container-id-1 {color: black;background-color: white;}#sk-container-id-1 pre{padding: 0;}#sk-container-id-1 div.sk-toggleable {background-color: white;}#sk-container-id-1 label.sk-toggleable__label {cursor: pointer;display: block;width: 100%;margin-bottom: 0;padding: 0.3em;box-sizing: border-box;text-align: center;}#sk-container-id-1 label.sk-toggleable__label-arrow:before {content: \"▸\";float: left;margin-right: 0.25em;color: #696969;}#sk-container-id-1 label.sk-toggleable__label-arrow:hover:before {color: black;}#sk-container-id-1 div.sk-estimator:hover label.sk-toggleable__label-arrow:before {color: black;}#sk-container-id-1 div.sk-toggleable__content {max-height: 0;max-width: 0;overflow: hidden;text-align: left;background-color: #f0f8ff;}#sk-container-id-1 div.sk-toggleable__content pre {margin: 0.2em;color: black;border-radius: 0.25em;background-color: #f0f8ff;}#sk-container-id-1 input.sk-toggleable__control:checked~div.sk-toggleable__content {max-height: 200px;max-width: 100%;overflow: auto;}#sk-container-id-1 input.sk-toggleable__control:checked~label.sk-toggleable__label-arrow:before {content: \"▾\";}#sk-container-id-1 div.sk-estimator input.sk-toggleable__control:checked~label.sk-toggleable__label {background-color: #d4ebff;}#sk-container-id-1 div.sk-label input.sk-toggleable__control:checked~label.sk-toggleable__label {background-color: #d4ebff;}#sk-container-id-1 input.sk-hidden--visually {border: 0;clip: rect(1px 1px 1px 1px);clip: rect(1px, 1px, 1px, 1px);height: 1px;margin: -1px;overflow: hidden;padding: 0;position: absolute;width: 1px;}#sk-container-id-1 div.sk-estimator {font-family: monospace;background-color: #f0f8ff;border: 1px dotted black;border-radius: 0.25em;box-sizing: border-box;margin-bottom: 0.5em;}#sk-container-id-1 div.sk-estimator:hover {background-color: #d4ebff;}#sk-container-id-1 div.sk-parallel-item::after {content: \"\";width: 100%;border-bottom: 1px solid gray;flex-grow: 1;}#sk-container-id-1 div.sk-label:hover label.sk-toggleable__label {background-color: #d4ebff;}#sk-container-id-1 div.sk-serial::before {content: \"\";position: absolute;border-left: 1px solid gray;box-sizing: border-box;top: 0;bottom: 0;left: 50%;z-index: 0;}#sk-container-id-1 div.sk-serial {display: flex;flex-direction: column;align-items: center;background-color: white;padding-right: 0.2em;padding-left: 0.2em;position: relative;}#sk-container-id-1 div.sk-item {position: relative;z-index: 1;}#sk-container-id-1 div.sk-parallel {display: flex;align-items: stretch;justify-content: center;background-color: white;position: relative;}#sk-container-id-1 div.sk-item::before, #sk-container-id-1 div.sk-parallel-item::before {content: \"\";position: absolute;border-left: 1px solid gray;box-sizing: border-box;top: 0;bottom: 0;left: 50%;z-index: -1;}#sk-container-id-1 div.sk-parallel-item {display: flex;flex-direction: column;z-index: 1;position: relative;background-color: white;}#sk-container-id-1 div.sk-parallel-item:first-child::after {align-self: flex-end;width: 50%;}#sk-container-id-1 div.sk-parallel-item:last-child::after {align-self: flex-start;width: 50%;}#sk-container-id-1 div.sk-parallel-item:only-child::after {width: 0;}#sk-container-id-1 div.sk-dashed-wrapped {border: 1px dashed gray;margin: 0 0.4em 0.5em 0.4em;box-sizing: border-box;padding-bottom: 0.4em;background-color: white;}#sk-container-id-1 div.sk-label label {font-family: monospace;font-weight: bold;display: inline-block;line-height: 1.2em;}#sk-container-id-1 div.sk-label-container {text-align: center;}#sk-container-id-1 div.sk-container {/* jupyter's `normalize.less` sets `[hidden] { display: none; }` but bootstrap.min.css set `[hidden] { display: none !important; }` so we also need the `!important` here to be able to override the default hidden behavior on the sphinx rendered scikit-learn.org. See: https://github.com/scikit-learn/scikit-learn/issues/21755 */display: inline-block !important;position: relative;}#sk-container-id-1 div.sk-text-repr-fallback {display: none;}</style><div id=\"sk-container-id-1\" class=\"sk-top-container\"><div class=\"sk-text-repr-fallback\"><pre>Pipeline(steps=[(&#x27;polynomial_features&#x27;, PolynomialFeatures()),\n",
       "                (&#x27;linear_regression&#x27;, Ridge())])</pre><b>In a Jupyter environment, please rerun this cell to show the HTML representation or trust the notebook. <br />On GitHub, the HTML representation is unable to render, please try loading this page with nbviewer.org.</b></div><div class=\"sk-container\" hidden><div class=\"sk-item sk-dashed-wrapped\"><div class=\"sk-label-container\"><div class=\"sk-label sk-toggleable\"><input class=\"sk-toggleable__control sk-hidden--visually\" id=\"sk-estimator-id-1\" type=\"checkbox\" ><label for=\"sk-estimator-id-1\" class=\"sk-toggleable__label sk-toggleable__label-arrow\">Pipeline</label><div class=\"sk-toggleable__content\"><pre>Pipeline(steps=[(&#x27;polynomial_features&#x27;, PolynomialFeatures()),\n",
       "                (&#x27;linear_regression&#x27;, Ridge())])</pre></div></div></div><div class=\"sk-serial\"><div class=\"sk-item\"><div class=\"sk-estimator sk-toggleable\"><input class=\"sk-toggleable__control sk-hidden--visually\" id=\"sk-estimator-id-2\" type=\"checkbox\" ><label for=\"sk-estimator-id-2\" class=\"sk-toggleable__label sk-toggleable__label-arrow\">PolynomialFeatures</label><div class=\"sk-toggleable__content\"><pre>PolynomialFeatures()</pre></div></div></div><div class=\"sk-item\"><div class=\"sk-estimator sk-toggleable\"><input class=\"sk-toggleable__control sk-hidden--visually\" id=\"sk-estimator-id-3\" type=\"checkbox\" ><label for=\"sk-estimator-id-3\" class=\"sk-toggleable__label sk-toggleable__label-arrow\">Ridge</label><div class=\"sk-toggleable__content\"><pre>Ridge()</pre></div></div></div></div></div></div></div>"
      ],
      "text/plain": [
       "Pipeline(steps=[('polynomial_features', PolynomialFeatures()),\n",
       "                ('linear_regression', Ridge())])"
      ]
     },
     "execution_count": 17,
     "metadata": {},
     "output_type": "execute_result"
    }
   ],
   "source": [
    "polynomial_features = PolynomialFeatures(degree=2)\n",
    "PLR = LinearRegression()\n",
    "ridge = Ridge()\n",
    "lasso = Lasso()\n",
    "pipeline = Pipeline([(\"polynomial_features\", polynomial_features),\n",
    "                         (\"linear_regression\", ridge)\n",
    "                  ])\n",
    "pipeline.fit(new_train_data, train_targets)"
   ]
  },
  {
   "cell_type": "code",
   "execution_count": 18,
   "id": "69b4358e",
   "metadata": {},
   "outputs": [
    {
     "name": "stderr",
     "output_type": "stream",
     "text": [
      "C:\\Users\\user\\anaconda3\\lib\\site-packages\\sklearn\\base.py:443: UserWarning: X has feature names, but PolynomialFeatures was fitted without feature names\n",
      "  warnings.warn(\n",
      "C:\\Users\\user\\anaconda3\\lib\\site-packages\\sklearn\\base.py:443: UserWarning: X has feature names, but PolynomialFeatures was fitted without feature names\n",
      "  warnings.warn(\n"
     ]
    }
   ],
   "source": [
    "PLR_pred_test_targets = pipeline.predict(new_test_data)\n",
    "PLR_pred_val_targets =  pipeline.predict(new_val_data)\n",
    "PLR_pred_train_targets = pipeline.predict(new_train_data)"
   ]
  },
  {
   "cell_type": "code",
   "execution_count": 23,
   "id": "2480d0ec",
   "metadata": {},
   "outputs": [
    {
     "name": "stdout",
     "output_type": "stream",
     "text": [
      "Mean Absolute Error: 1048.0225715687093\n",
      "Mean Squared Error: 3705326.094433119\n",
      "Root Mean Squared Error: 1924.9223606247394\n",
      "R2: 0.8966825170590568\n"
     ]
    }
   ],
   "source": [
    "print('Mean Absolute Error:', metrics.mean_absolute_error(test_targets, PLR_pred_test_targets))\n",
    "print('Mean Squared Error:', metrics.mean_squared_error(test_targets, PLR_pred_test_targets))\n",
    "print('Root Mean Squared Error:', np.sqrt(metrics.mean_squared_error(test_targets, PLR_pred_test_targets)))\n",
    "print('R2:', metrics.r2_score(test_targets, PLR_pred_test_targets))"
   ]
  },
  {
   "cell_type": "markdown",
   "id": "07acadbf",
   "metadata": {},
   "source": [
    "#%%%%%%%%%%%%%%%%%%%%%%%%%%%%%%%%%%%%%%%%%%%%%%%%%%%\n",
    "NN\n",
    "#%%%%%%%%%%%%%%%%%%%%%%%%%%%%%%%%%%%%%%%%%%%%%%%%%%%"
   ]
  },
  {
   "cell_type": "code",
   "execution_count": 34,
   "id": "6a190fc9",
   "metadata": {},
   "outputs": [
    {
     "data": {
      "text/html": [
       "<style>#sk-container-id-6 {color: black;background-color: white;}#sk-container-id-6 pre{padding: 0;}#sk-container-id-6 div.sk-toggleable {background-color: white;}#sk-container-id-6 label.sk-toggleable__label {cursor: pointer;display: block;width: 100%;margin-bottom: 0;padding: 0.3em;box-sizing: border-box;text-align: center;}#sk-container-id-6 label.sk-toggleable__label-arrow:before {content: \"▸\";float: left;margin-right: 0.25em;color: #696969;}#sk-container-id-6 label.sk-toggleable__label-arrow:hover:before {color: black;}#sk-container-id-6 div.sk-estimator:hover label.sk-toggleable__label-arrow:before {color: black;}#sk-container-id-6 div.sk-toggleable__content {max-height: 0;max-width: 0;overflow: hidden;text-align: left;background-color: #f0f8ff;}#sk-container-id-6 div.sk-toggleable__content pre {margin: 0.2em;color: black;border-radius: 0.25em;background-color: #f0f8ff;}#sk-container-id-6 input.sk-toggleable__control:checked~div.sk-toggleable__content {max-height: 200px;max-width: 100%;overflow: auto;}#sk-container-id-6 input.sk-toggleable__control:checked~label.sk-toggleable__label-arrow:before {content: \"▾\";}#sk-container-id-6 div.sk-estimator input.sk-toggleable__control:checked~label.sk-toggleable__label {background-color: #d4ebff;}#sk-container-id-6 div.sk-label input.sk-toggleable__control:checked~label.sk-toggleable__label {background-color: #d4ebff;}#sk-container-id-6 input.sk-hidden--visually {border: 0;clip: rect(1px 1px 1px 1px);clip: rect(1px, 1px, 1px, 1px);height: 1px;margin: -1px;overflow: hidden;padding: 0;position: absolute;width: 1px;}#sk-container-id-6 div.sk-estimator {font-family: monospace;background-color: #f0f8ff;border: 1px dotted black;border-radius: 0.25em;box-sizing: border-box;margin-bottom: 0.5em;}#sk-container-id-6 div.sk-estimator:hover {background-color: #d4ebff;}#sk-container-id-6 div.sk-parallel-item::after {content: \"\";width: 100%;border-bottom: 1px solid gray;flex-grow: 1;}#sk-container-id-6 div.sk-label:hover label.sk-toggleable__label {background-color: #d4ebff;}#sk-container-id-6 div.sk-serial::before {content: \"\";position: absolute;border-left: 1px solid gray;box-sizing: border-box;top: 0;bottom: 0;left: 50%;z-index: 0;}#sk-container-id-6 div.sk-serial {display: flex;flex-direction: column;align-items: center;background-color: white;padding-right: 0.2em;padding-left: 0.2em;position: relative;}#sk-container-id-6 div.sk-item {position: relative;z-index: 1;}#sk-container-id-6 div.sk-parallel {display: flex;align-items: stretch;justify-content: center;background-color: white;position: relative;}#sk-container-id-6 div.sk-item::before, #sk-container-id-6 div.sk-parallel-item::before {content: \"\";position: absolute;border-left: 1px solid gray;box-sizing: border-box;top: 0;bottom: 0;left: 50%;z-index: -1;}#sk-container-id-6 div.sk-parallel-item {display: flex;flex-direction: column;z-index: 1;position: relative;background-color: white;}#sk-container-id-6 div.sk-parallel-item:first-child::after {align-self: flex-end;width: 50%;}#sk-container-id-6 div.sk-parallel-item:last-child::after {align-self: flex-start;width: 50%;}#sk-container-id-6 div.sk-parallel-item:only-child::after {width: 0;}#sk-container-id-6 div.sk-dashed-wrapped {border: 1px dashed gray;margin: 0 0.4em 0.5em 0.4em;box-sizing: border-box;padding-bottom: 0.4em;background-color: white;}#sk-container-id-6 div.sk-label label {font-family: monospace;font-weight: bold;display: inline-block;line-height: 1.2em;}#sk-container-id-6 div.sk-label-container {text-align: center;}#sk-container-id-6 div.sk-container {/* jupyter's `normalize.less` sets `[hidden] { display: none; }` but bootstrap.min.css set `[hidden] { display: none !important; }` so we also need the `!important` here to be able to override the default hidden behavior on the sphinx rendered scikit-learn.org. See: https://github.com/scikit-learn/scikit-learn/issues/21755 */display: inline-block !important;position: relative;}#sk-container-id-6 div.sk-text-repr-fallback {display: none;}</style><div id=\"sk-container-id-6\" class=\"sk-top-container\"><div class=\"sk-text-repr-fallback\"><pre>MLPRegressor(alpha=0.1, hidden_layer_sizes=(20,), max_iter=100)</pre><b>In a Jupyter environment, please rerun this cell to show the HTML representation or trust the notebook. <br />On GitHub, the HTML representation is unable to render, please try loading this page with nbviewer.org.</b></div><div class=\"sk-container\" hidden><div class=\"sk-item\"><div class=\"sk-estimator sk-toggleable\"><input class=\"sk-toggleable__control sk-hidden--visually\" id=\"sk-estimator-id-8\" type=\"checkbox\" checked><label for=\"sk-estimator-id-8\" class=\"sk-toggleable__label sk-toggleable__label-arrow\">MLPRegressor</label><div class=\"sk-toggleable__content\"><pre>MLPRegressor(alpha=0.1, hidden_layer_sizes=(20,), max_iter=100)</pre></div></div></div></div></div>"
      ],
      "text/plain": [
       "MLPRegressor(alpha=0.1, hidden_layer_sizes=(20,), max_iter=100)"
      ]
     },
     "execution_count": 34,
     "metadata": {},
     "output_type": "execute_result"
    }
   ],
   "source": [
    "from sklearn.neural_network import MLPRegressor\n",
    "regr = MLPRegressor( max_iter=100,hidden_layer_sizes=(20,),alpha = 0.1)\n",
    "regr.fit(new_train_data, train_targets)   "
   ]
  },
  {
   "cell_type": "code",
   "execution_count": 35,
   "id": "9de522a7",
   "metadata": {},
   "outputs": [
    {
     "name": "stderr",
     "output_type": "stream",
     "text": [
      "C:\\Users\\user\\anaconda3\\lib\\site-packages\\sklearn\\base.py:443: UserWarning: X has feature names, but MLPRegressor was fitted without feature names\n",
      "  warnings.warn(\n",
      "C:\\Users\\user\\anaconda3\\lib\\site-packages\\sklearn\\base.py:443: UserWarning: X has feature names, but MLPRegressor was fitted without feature names\n",
      "  warnings.warn(\n"
     ]
    }
   ],
   "source": [
    "NN_pred_test_targets = regr.predict(new_test_data)\n",
    "NN_pred_val_targets =  regr.predict(new_val_data)\n",
    "NN_pred_train_targets = regr.predict(new_train_data)"
   ]
  },
  {
   "cell_type": "code",
   "execution_count": 36,
   "id": "84bd88b1",
   "metadata": {},
   "outputs": [
    {
     "name": "stdout",
     "output_type": "stream",
     "text": [
      "Mean Absolute Error: 1044.729970603426\n",
      "Mean Squared Error: 3697544.0952972346\n",
      "Root Mean Squared Error: 1922.899918169751\n",
      "R2: 0.8968995064798195\n"
     ]
    }
   ],
   "source": [
    "print('Mean Absolute Error:', metrics.mean_absolute_error(test_targets, NN_pred_test_targets))\n",
    "print('Mean Squared Error:', metrics.mean_squared_error(test_targets, NN_pred_test_targets))\n",
    "print('Root Mean Squared Error:', np.sqrt(metrics.mean_squared_error(test_targets, NN_pred_test_targets)))\n",
    "print('R2:', metrics.r2_score(test_targets, NN_pred_test_targets))"
   ]
  },
  {
   "cell_type": "markdown",
   "id": "78b0ad8e",
   "metadata": {},
   "source": [
    "#%%%%%%%%%%%%%%%%%%%%%%%%%%%%%%%%%%%\n",
    "\n",
    "CLASSIFICATION\n",
    "\n",
    "#%%%%%%%%%%%%%%%%%%%%%%%%%%%%%%%%%%"
   ]
  },
  {
   "cell_type": "code",
   "execution_count": null,
   "id": "b3eb0c92",
   "metadata": {},
   "outputs": [],
   "source": []
  }
 ],
 "metadata": {
  "kernelspec": {
   "display_name": "Python 3 (ipykernel)",
   "language": "python",
   "name": "python3"
  },
  "language_info": {
   "codemirror_mode": {
    "name": "ipython",
    "version": 3
   },
   "file_extension": ".py",
   "mimetype": "text/x-python",
   "name": "python",
   "nbconvert_exporter": "python",
   "pygments_lexer": "ipython3",
   "version": "3.9.13"
  }
 },
 "nbformat": 4,
 "nbformat_minor": 5
}
